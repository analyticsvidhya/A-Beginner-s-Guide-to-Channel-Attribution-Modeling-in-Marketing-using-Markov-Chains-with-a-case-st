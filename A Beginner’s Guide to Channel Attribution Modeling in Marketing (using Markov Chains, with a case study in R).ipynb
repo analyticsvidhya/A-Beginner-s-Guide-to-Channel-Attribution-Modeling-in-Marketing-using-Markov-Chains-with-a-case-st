{
 "cells": [
  {
   "cell_type": "markdown",
   "metadata": {},
   "source": [
    "## Implementation using R "
   ]
  },
  {
   "cell_type": "code",
   "execution_count": null,
   "metadata": {},
   "outputs": [],
   "source": [
    "#Install the libraries\n",
    "install.packages(\"ChannelAttribution\")\n",
    "install.packages(\"ggplot2\")\n",
    "install.packages(\"reshape\")\n",
    "install.packages(\"dplyr\")\n",
    "install.packages(\"plyr\")\n",
    "install.packages(\"reshape2\")\n",
    "install.packages(\"markovchain\")\n",
    "install.packages(\"plotly\")\n",
    "\n",
    "#Load the libraries\n",
    "library(\"ChannelAttribution\")\n",
    "library(\"ggplot2\")\n",
    "library(\"reshape\")\n",
    "library(\"dplyr\")\n",
    "library(\"plyr\")\n",
    "library(\"reshape2\")\n",
    "library(\"markovchain\")\n",
    "library(\"plotly\")\n",
    "\n",
    "#Read the data into R\n",
    "> channel = read.csv(\"Channel_attribution.csv\", header = T)\n",
    "> head(channel)"
   ]
  },
  {
   "cell_type": "code",
   "execution_count": null,
   "metadata": {},
   "outputs": [],
   "source": [
    "> for(row in 1:nrow(channel))\n",
    "{\n",
    "  if(21 %in% channel[row,]){channel$convert[row] = 1}\n",
    "}\n",
    "> column = colnames(channel)\n",
    "> channel$path = do.call(paste, c(channel[column], sep = \" > \"))\n",
    "> head(channel$path)\n",
    "[1] \"16 > 4 > 3 > 5 > 10 > 8 > 6 > 8 > 13 > 20 > 21 > NA > NA > NA > NA > NA > NA > NA > NA > NA > NA > 1\"     \n",
    "\n",
    "[2] \"2 > 1 > 9 > 10 > 1 > 4 > 3 > 21 > NA > NA > NA > NA > NA > NA > NA > NA > NA > NA > NA > NA > NA > 1\"     \n",
    "\n",
    "[3] \"9 > 13 > 20 > 16 > 15 > 21 > NA > NA > NA > NA > NA > NA > NA > NA > NA > NA > NA > NA > NA > NA > NA > 1\"\n",
    "\n",
    "[4] \"8 > 15 > 20 > 21 > NA > NA > NA > NA > NA > NA > NA > NA > NA > NA > NA > NA > NA > NA > NA > NA > NA > 1\"\n",
    "\n",
    "[5] \"16 > 9 > 13 > 20 > 21 > NA > NA > NA > NA > NA > NA > NA > NA > NA > NA > NA > NA > NA > NA > NA > NA > 1\"\n",
    "\n",
    "[6] \"1 > 11 > 8 > 4 > 9 > 21 > NA > NA > NA > NA > NA > NA > NA > NA > NA > NA > NA > NA > NA > NA > NA > 1\""
   ]
  },
  {
   "cell_type": "code",
   "execution_count": null,
   "metadata": {},
   "outputs": [],
   "source": [
    "> for(row in 1:nrow(channel))\n",
    "{\n",
    "  channel$path[row] = strsplit(channel$path[row], \" > 21\")[[1]][1]\n",
    "}\n",
    "> channel_fin = channel[,c(23,22)]\n",
    "> channel_fin = ddply(channel_fin,~path,summarise, conversion= sum(convert))\n",
    "> head(channel_fin)"
   ]
  },
  {
   "cell_type": "code",
   "execution_count": null,
   "metadata": {},
   "outputs": [],
   "source": [
    "> Data = channel_fin\n",
    "> head(Data)"
   ]
  },
  {
   "cell_type": "code",
   "execution_count": null,
   "metadata": {},
   "outputs": [],
   "source": [
    "> H <- heuristic_models(Data, 'path', 'conversion', var_value='conversion')\n",
    "> H"
   ]
  },
  {
   "cell_type": "code",
   "execution_count": null,
   "metadata": {},
   "outputs": [],
   "source": [
    "> M <- markov_model(Data, 'path', 'conversion', var_value='conversion', order = 1)> M"
   ]
  },
  {
   "cell_type": "code",
   "execution_count": null,
   "metadata": {},
   "outputs": [],
   "source": [
    "# Merges the two data frames on the \"channel_name\" column.\n",
    "R <- merge(H, M, by='channel_name')\n",
    "\n",
    "# Select only relevant columns\n",
    "R1 <- R[, (colnames(R) %in %c('channel_name', 'first_touch_conversions', 'last_touch_conversions', 'linear_touch_conversions', 'total_conversion'))]\n",
    "\n",
    "# Transforms the dataset into a data frame that ggplot2 can use to plot the outcomes\n",
    "R1 <- melt(R1, id='channel_name')"
   ]
  },
  {
   "cell_type": "code",
   "execution_count": null,
   "metadata": {},
   "outputs": [],
   "source": [
    "# Plot the total conversions\n",
    "ggplot(R1, aes(channel_name, value, fill = variable)) +\n",
    "  geom_bar(stat='identity', position='dodge') +\n",
    "  ggtitle('TOTAL CONVERSIONS') +\n",
    "  theme(axis.title.x = element_text(vjust = -2)) +\n",
    "  theme(axis.title.y = element_text(vjust = +2)) +\n",
    "  theme(title = element_text(size = 16)) +\n",
    "  theme(plot.title=element_text(size = 20)) +\n",
    "  ylab(\"\")"
   ]
  },
  {
   "cell_type": "code",
   "execution_count": null,
   "metadata": {},
   "outputs": [],
   "source": []
  },
  {
   "cell_type": "code",
   "execution_count": null,
   "metadata": {},
   "outputs": [],
   "source": []
  }
 ],
 "metadata": {
  "kernelspec": {
   "display_name": "Python 3",
   "language": "python",
   "name": "python3"
  },
  "language_info": {
   "codemirror_mode": {
    "name": "ipython",
    "version": 3
   },
   "file_extension": ".py",
   "mimetype": "text/x-python",
   "name": "python",
   "nbconvert_exporter": "python",
   "pygments_lexer": "ipython3",
   "version": "3.7.3"
  }
 },
 "nbformat": 4,
 "nbformat_minor": 2
}
